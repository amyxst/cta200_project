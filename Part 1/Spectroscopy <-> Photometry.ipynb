{
 "cells": [
  {
   "cell_type": "code",
   "execution_count": 1,
   "metadata": {
    "collapsed": true
   },
   "outputs": [],
   "source": [
    "%matplotlib inline\n",
    "import numpy as np\n",
    "import pandas as pd\n",
    "from scipy.interpolate import interp1d \n",
    "import matplotlib.pyplot as plt\n",
    "import pprint\n",
    "inter = interp1d"
   ]
  },
  {
   "cell_type": "code",
   "execution_count": 2,
   "metadata": {
    "collapsed": true
   },
   "outputs": [],
   "source": [
    "def get_fac(wavelength, filter_df):\n",
    "    \"\"\"\n",
    "    Gets the factor filter scales a particular wavelength by,\n",
    "    or interpolate for the factor if wavelength factor is not explicitly\n",
    "    provided by filter.\n",
    "    \"\"\"\n",
    "    #print \"wavelength {}\".format(wavelength)\n",
    "    fac = filter_df[filter_df[0] == wavelength]\n",
    "    if len(fac) is 0:\n",
    "        f = inter(filter_df[0], filter_df[1])\n",
    "        return f(wavelength)\n",
    "    else:\n",
    "        return fac[1]"
   ]
  },
  {
   "cell_type": "code",
   "execution_count": 3,
   "metadata": {
    "collapsed": true
   },
   "outputs": [],
   "source": [
    "def truncate_spectra_by_sloan_ranges(spectra):\n",
    "    \"\"\"\n",
    "    Returns dictionary indexed by sloan filters, \n",
    "    with values being ndarray of wavelengths from the spectra\n",
    "    that falls under the sloan filter range.\n",
    "    \"\"\"\n",
    "    \n",
    "    sloan_ranges = {\n",
    "        'u': [2980, 4130],\n",
    "        'g': [3630, 5830],\n",
    "        'z': [7730, 11230],\n",
    "        'r': [5380, 7230],\n",
    "        'i': [6430, 8630]\n",
    "    }\n",
    "    \n",
    "    def get_range(fil):\n",
    "        fil_range = spectra[(spectra[0] >= sloan_ranges[fil][0]) & (spectra[0] <= sloan_ranges[fil][1])]\n",
    "        return fil_range\n",
    "        \n",
    "    #get_range = lambda fil: spectra[(spectra[0] > sloan_ranges[fil][0]) & (spectra[0] < sloan_ranges[fil][1])]\n",
    "    \n",
    "    return {\n",
    "        'u': get_range('u'),\n",
    "        'g': get_range('g'),\n",
    "        'z': get_range('z'),\n",
    "        'r': get_range('r'),\n",
    "        'i': get_range('i')\n",
    "    }"
   ]
  },
  {
   "cell_type": "code",
   "execution_count": 20,
   "metadata": {
    "collapsed": true
   },
   "outputs": [],
   "source": [
    "def scale_within_range(sloan_filter, spectra):\n",
    "    \"\"\"\n",
    "    Scales spectra values at each wavelength by corresponding filter transmission.\n",
    "    \"\"\"\n",
    "    spectra_ranges = truncate_spectra_by_sloan_ranges(spectra)\n",
    "    in_range = spectra_ranges[sloan_filter]\n",
    "\n",
    "    if len(in_range) == 0:\n",
    "        return None\n",
    "    \n",
    "    range_filter = pd.read_csv(\"SLOAN_SDSS_\"+sloan_filter+\".dat\", header=None, delimiter=\" \")\n",
    "    get_filter_fac = lambda w: get_fac(w, range_filter)\n",
    "    get_filter_facs = np.vectorize(get_filter_fac)\n",
    "    \n",
    "    w_factors = get_filter_facs(in_range[0]) # assuming order is the same\n",
    "    scaled = in_range[1] * w_factors\n",
    "    return scaled"
   ]
  },
  {
   "cell_type": "markdown",
   "metadata": {},
   "source": [
    "**Calculation to convert flux values to magnitude, based on Vega System:**\n",
    "\n",
    "Zero Point: 1568.54 (Jy)\n",
    "\n"
   ]
  },
  {
   "cell_type": "code",
   "execution_count": 5,
   "metadata": {
    "collapsed": true
   },
   "outputs": [],
   "source": [
    "def flux_to_magnitude(flux):\n",
    "    \"\"\"\n",
    "    Converts Flux to Apparent Magnitude\n",
    "    \"\"\"\n",
    "    return 3.639e-9 - 2.5*np.log10(flux/1568.54)"
   ]
  },
  {
   "cell_type": "code",
   "execution_count": 6,
   "metadata": {
    "collapsed": true
   },
   "outputs": [],
   "source": [
    "def get_magnitudes_at_epoch(spec_at_epoch):\n",
    "    \"\"\"\n",
    "    Gets converted magnitudes for each band, for each spectra.\n",
    "    \"\"\"\n",
    "    spec_at_epoch = spec_at_epoch if type(spec_at_epoch) is str else str(spec_at_epoch)\n",
    "    \n",
    "    spectra = pd.read_csv(spec_at_epoch+\".csv\", header=None, skiprows=[0], usecols=[0,1])    \n",
    "\n",
    "    sums = {'u':0,'g':0,'z':0,'r':0,'i':0}\n",
    "    for f in sums.keys():\n",
    "        n = scale_within_range(f, spectra)\n",
    "        if n is not None:\n",
    "            sums[f] = n.sum()\n",
    "    \n",
    "    \n",
    "    f2m = {k:flux_to_magnitude(sums[k]) for k in sums.keys() if sums[k] != 0}\n",
    "    return f2m\n",
    "    \n",
    "    \"\"\"\n",
    "    non_zero_sums = filter(lambda s: s != 0, sums.values())\n",
    "    \n",
    "    f2m = np.vectorize(flux_to_magnitude)\n",
    "    return np.asarray(f2m(non_zero_sums)) # discards the filter label\n",
    "    \"\"\""
   ]
  },
  {
   "cell_type": "code",
   "execution_count": 7,
   "metadata": {},
   "outputs": [
    {
     "name": "stdout",
     "output_type": "stream",
     "text": [
      "{'i': 43.357995699863977, 'r': 41.826991808885381, 'u': 42.898852608684557, 'z': 42.543146280129299, 'g': 40.411444787341068}\n",
      "{'i': 42.202005334662545, 'r': 40.700516275392616, 'u': 43.17779378490787, 'g': 40.358499208231621}\n",
      "{'i': 40.0955306391824, 'r': 39.113652052313924, 'u': 43.075518322048332, 'z': 42.061572005458459, 'g': 39.230804311429779}\n",
      "{'r': 43.338324495473373, 'u': 44.772816483583917, 'g': 41.775188589619098}\n",
      "{'i': 44.058585117955118, 'r': 42.693581599765473, 'z': 46.26484720887116, 'g': 44.051023393025602}\n",
      "{'i': 42.879198415597259, 'r': 40.918746326429236, 'u': 44.467681102987427, 'g': 40.938179280802203}\n",
      "{'r': 41.762484500353374, 'u': 45.87949735300532, 'g': 41.412587462937296}\n",
      "{'i': 42.950187081686948, 'r': 43.181758883752693, 'z': 44.79768148310805}\n",
      "{'i': 45.129007849491941, 'r': 43.662274559634199, 'u': 47.519481664966818, 'z': 48.847629371730235, 'g': 43.985715418015978}\n",
      "{'r': 44.859381189962647, 'u': 47.371916749112408, 'g': 44.120943583981287}\n",
      "{'i': 44.790933239233311, 'r': 43.973421210724091, 'z': 47.362724228415928, 'g': 50.271051278128866}\n"
     ]
    }
   ],
   "source": [
    "spectra_epoch = {\n",
    "    1: {'epoch': 54361.00, 'magnitudes': None},\n",
    "    2: {'epoch': 54363.46, 'magnitudes': None},\n",
    "    3: {'epoch': 54365.38, 'magnitudes': None},\n",
    "    4: {'epoch': 54376.32, 'magnitudes': None},\n",
    "    5: {'epoch': 54376.36, 'magnitudes': None},\n",
    "    6: {'epoch': 54379.44, 'magnitudes': None},\n",
    "    7: {'epoch': 54381.35, 'magnitudes': None},\n",
    "    8: {'epoch': 54381.35, 'magnitudes': None},\n",
    "    9: {'epoch': 54389.28, 'magnitudes': None},\n",
    "    10: {'epoch': 54408.21, 'magnitudes': None},\n",
    "    11: {'epoch': 54408.25,  'magnitudes': None}\n",
    "}\n",
    "\n",
    "for i in xrange(1, 12):\n",
    "    spectra_epoch[i]['magnitudes'] = get_magnitudes_at_epoch(i)\n",
    "    print spectra_epoch[i]['magnitudes']"
   ]
  },
  {
   "cell_type": "markdown",
   "metadata": {},
   "source": [
    "**Epoch and corresponding magnitudes computed:**"
   ]
  },
  {
   "cell_type": "code",
   "execution_count": 8,
   "metadata": {
    "scrolled": false
   },
   "outputs": [
    {
     "name": "stdout",
     "output_type": "stream",
     "text": [
      "{1: {'epoch': 54361.0,\n",
      "     'magnitudes': {'g': 40.411444787341068,\n",
      "                    'i': 43.357995699863977,\n",
      "                    'r': 41.826991808885381,\n",
      "                    'u': 42.898852608684557,\n",
      "                    'z': 42.543146280129299}},\n",
      " 2: {'epoch': 54363.46,\n",
      "     'magnitudes': {'g': 40.358499208231621,\n",
      "                    'i': 42.202005334662545,\n",
      "                    'r': 40.700516275392616,\n",
      "                    'u': 43.17779378490787}},\n",
      " 3: {'epoch': 54365.38,\n",
      "     'magnitudes': {'g': 39.230804311429779,\n",
      "                    'i': 40.0955306391824,\n",
      "                    'r': 39.113652052313924,\n",
      "                    'u': 43.075518322048332,\n",
      "                    'z': 42.061572005458459}},\n",
      " 4: {'epoch': 54376.32,\n",
      "     'magnitudes': {'g': 41.775188589619098,\n",
      "                    'r': 43.338324495473373,\n",
      "                    'u': 44.772816483583917}},\n",
      " 5: {'epoch': 54376.36,\n",
      "     'magnitudes': {'g': 44.051023393025602,\n",
      "                    'i': 44.058585117955118,\n",
      "                    'r': 42.693581599765473,\n",
      "                    'z': 46.26484720887116}},\n",
      " 6: {'epoch': 54379.44,\n",
      "     'magnitudes': {'g': 40.938179280802203,\n",
      "                    'i': 42.879198415597259,\n",
      "                    'r': 40.918746326429236,\n",
      "                    'u': 44.467681102987427}},\n",
      " 7: {'epoch': 54381.35,\n",
      "     'magnitudes': {'g': 41.412587462937296,\n",
      "                    'r': 41.762484500353374,\n",
      "                    'u': 45.87949735300532}},\n",
      " 8: {'epoch': 54381.35,\n",
      "     'magnitudes': {'i': 42.950187081686948,\n",
      "                    'r': 43.181758883752693,\n",
      "                    'z': 44.79768148310805}},\n",
      " 9: {'epoch': 54389.28,\n",
      "     'magnitudes': {'g': 43.985715418015978,\n",
      "                    'i': 45.129007849491941,\n",
      "                    'r': 43.662274559634199,\n",
      "                    'u': 47.519481664966818,\n",
      "                    'z': 48.847629371730235}},\n",
      " 10: {'epoch': 54408.21,\n",
      "      'magnitudes': {'g': 44.120943583981287,\n",
      "                     'r': 44.859381189962647,\n",
      "                     'u': 47.371916749112408}},\n",
      " 11: {'epoch': 54408.25,\n",
      "      'magnitudes': {'g': 50.271051278128866,\n",
      "                     'i': 44.790933239233311,\n",
      "                     'r': 43.973421210724091,\n",
      "                     'z': 47.362724228415928}}}\n"
     ]
    }
   ],
   "source": [
    "pprint.pprint(spectra_epoch)"
   ]
  },
  {
   "cell_type": "code",
   "execution_count": 9,
   "metadata": {},
   "outputs": [
    {
     "name": "stdout",
     "output_type": "stream",
     "text": [
      "{'g': {'epochs': [54361.0,\n",
      "                  54363.46,\n",
      "                  54365.38,\n",
      "                  54376.32,\n",
      "                  54376.36,\n",
      "                  54379.44,\n",
      "                  54381.35,\n",
      "                  54389.28,\n",
      "                  54408.21,\n",
      "                  54408.25],\n",
      "       'magnitudes': [40.411444787341068,\n",
      "                      40.358499208231621,\n",
      "                      39.230804311429779,\n",
      "                      41.775188589619098,\n",
      "                      44.051023393025602,\n",
      "                      40.938179280802203,\n",
      "                      41.412587462937296,\n",
      "                      43.985715418015978,\n",
      "                      44.120943583981287,\n",
      "                      50.271051278128866]},\n",
      " 'i': {'epochs': [54361.0,\n",
      "                  54363.46,\n",
      "                  54365.38,\n",
      "                  54376.36,\n",
      "                  54379.44,\n",
      "                  54381.35,\n",
      "                  54389.28,\n",
      "                  54408.25],\n",
      "       'magnitudes': [43.357995699863977,\n",
      "                      42.202005334662545,\n",
      "                      40.0955306391824,\n",
      "                      44.058585117955118,\n",
      "                      42.879198415597259,\n",
      "                      42.950187081686948,\n",
      "                      45.129007849491941,\n",
      "                      44.790933239233311]},\n",
      " 'r': {'epochs': [54361.0,\n",
      "                  54363.46,\n",
      "                  54365.38,\n",
      "                  54376.32,\n",
      "                  54376.36,\n",
      "                  54379.44,\n",
      "                  54381.35,\n",
      "                  54381.35,\n",
      "                  54389.28,\n",
      "                  54408.21,\n",
      "                  54408.25],\n",
      "       'magnitudes': [41.826991808885381,\n",
      "                      40.700516275392616,\n",
      "                      39.113652052313924,\n",
      "                      43.338324495473373,\n",
      "                      42.693581599765473,\n",
      "                      40.918746326429236,\n",
      "                      41.762484500353374,\n",
      "                      43.181758883752693,\n",
      "                      43.662274559634199,\n",
      "                      44.859381189962647,\n",
      "                      43.973421210724091]},\n",
      " 'u': {'epochs': [54361.0,\n",
      "                  54363.46,\n",
      "                  54365.38,\n",
      "                  54376.32,\n",
      "                  54379.44,\n",
      "                  54381.35,\n",
      "                  54389.28,\n",
      "                  54408.21],\n",
      "       'magnitudes': [42.898852608684557,\n",
      "                      43.17779378490787,\n",
      "                      43.075518322048332,\n",
      "                      44.772816483583917,\n",
      "                      44.467681102987427,\n",
      "                      45.87949735300532,\n",
      "                      47.519481664966818,\n",
      "                      47.371916749112408]},\n",
      " 'z': {'epochs': [54361.0, 54365.38, 54376.36, 54381.35, 54389.28, 54408.25],\n",
      "       'magnitudes': [42.543146280129299,\n",
      "                      42.061572005458459,\n",
      "                      46.26484720887116,\n",
      "                      44.79768148310805,\n",
      "                      48.847629371730235,\n",
      "                      47.362724228415928]}}\n"
     ]
    }
   ],
   "source": [
    "epochs = [spectra_epoch[x]['epoch'] for x in xrange(1,12)]\n",
    "magnitudes = [spectra_epoch[x]['magnitudes'] for x in xrange(1,12)]\n",
    "\n",
    "bands = {'i':{\n",
    "            'epochs': [],\n",
    "            'magnitudes': []\n",
    "        },\n",
    "         'r':{\n",
    "            'epochs': [],\n",
    "            'magnitudes': []\n",
    "        },\n",
    "         'u':{\n",
    "            'epochs': [],\n",
    "            'magnitudes': []\n",
    "        },\n",
    "         'z':{\n",
    "            'epochs': [],\n",
    "            'magnitudes': []\n",
    "        },\n",
    "         'g':{\n",
    "            'epochs': [],\n",
    "            'magnitudes': []\n",
    "        }\n",
    "    }\n",
    "\n",
    "for epoch in xrange(11):\n",
    "    for band in bands.keys():\n",
    "        if band in magnitudes[epoch].keys():\n",
    "            bands[band]['epochs'].append(epochs[epoch])\n",
    "            bands[band]['magnitudes'].append(magnitudes[epoch][band])\n",
    "\n",
    "pprint.pprint(bands)"
   ]
  },
  {
   "cell_type": "code",
   "execution_count": 10,
   "metadata": {
    "collapsed": true
   },
   "outputs": [],
   "source": [
    "scale_fac = 2.3"
   ]
  },
  {
   "cell_type": "code",
   "execution_count": 11,
   "metadata": {},
   "outputs": [
    {
     "data": {
      "text/plain": [
       "'\\nf1 = plt.figure()\\nf1.gca().invert_yaxis()\\np1 = f1.add_subplot(111)\\nfor epoch in xrange(11):\\n    print (epochs[epoch], np.mean(magnitudes[epoch]))\\n    p1.scatter(epochs[epoch], np.mean(magnitudes[epoch]/scale_fac))\\n'"
      ]
     },
     "execution_count": 11,
     "metadata": {},
     "output_type": "execute_result"
    }
   ],
   "source": [
    "\"\"\"\n",
    "f1 = plt.figure()\n",
    "f1.gca().invert_yaxis()\n",
    "p1 = f1.add_subplot(111)\n",
    "for epoch in xrange(11):\n",
    "    print (epochs[epoch], np.mean(magnitudes[epoch]))\n",
    "    p1.scatter(epochs[epoch], np.mean(magnitudes[epoch]/scale_fac))\n",
    "\"\"\""
   ]
  },
  {
   "cell_type": "code",
   "execution_count": 18,
   "metadata": {},
   "outputs": [
    {
     "data": {
      "text/plain": [
       "<matplotlib.text.Text at 0x10e691b10>"
      ]
     },
     "execution_count": 18,
     "metadata": {},
     "output_type": "execute_result"
    },
    {
     "data": {
      "image/png": "[encoded data removed]",
      "text/plain": [
       "<matplotlib.figure.Figure at 0x10e6f9c50>"
      ]
     },
     "metadata": {},
     "output_type": "display_data"
    }
   ],
   "source": [
    "f3 = plt.figure()\n",
    "f3.gca().invert_yaxis()\n",
    "p3 = f3.add_subplot(111)\n",
    "for band in bands.keys():\n",
    "    p3.scatter(bands[band]['epochs'], np.asarray(bands[band]['magnitudes'])/scale_fac, label=band)\n",
    "    \n",
    "p3.legend(title='Bands', loc=0)\n",
    "p3.set_ylabel('Apparent Magnitude')\n",
    "p3.set_xlabel('Time')\n",
    "p3.set_title('SN2007jg Spectra to Photometry')"
   ]
  },
  {
   "cell_type": "code",
   "execution_count": 19,
   "metadata": {},
   "outputs": [
    {
     "data": {
      "text/plain": [
       "<matplotlib.figure.Figure at 0x10ebe4510>"
      ]
     },
     "metadata": {},
     "output_type": "display_data"
    }
   ],
   "source": [
    "plt.savefig('spectra_to_photometry_curve.pdf')"
   ]
  },
  {
   "cell_type": "code",
   "execution_count": null,
   "metadata": {
    "collapsed": true
   },
   "outputs": [],
   "source": []
  }
 ],
 "metadata": {
  "kernelspec": {
   "display_name": "Python 2",
   "language": "python",
   "name": "python2"
  },
  "language_info": {
   "codemirror_mode": {
    "name": "ipython",
    "version": 2
   },
   "file_extension": ".py",
   "mimetype": "text/x-python",
   "name": "python",
   "nbconvert_exporter": "python",
   "pygments_lexer": "ipython2",
   "version": "2.7.13"
  }
 },
 "nbformat": 4,
 "nbformat_minor": 2
}
