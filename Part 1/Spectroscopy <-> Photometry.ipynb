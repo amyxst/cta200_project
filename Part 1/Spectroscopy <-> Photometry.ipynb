{
 "cells": [
  {
   "cell_type": "code",
   "execution_count": 376,
   "metadata": {},
   "outputs": [],
   "source": [
    "import numpy as np\n",
    "from scipy.interpolate import interp1d \n",
    "import matplotlib.pyplot as plt\n",
    "import pprint\n",
    "inter = interp1d"
   ]
  },
  {
   "cell_type": "code",
   "execution_count": 214,
   "metadata": {
    "collapsed": true
   },
   "outputs": [],
   "source": [
    "def get_fac(wavelength, filter_df):\n",
    "    #print \"wavelength {}\".format(wavelength)\n",
    "    fac = filter_df[filter_df[0] == wavelength]\n",
    "    if len(fac) is 0:\n",
    "        f = inter(filter_df[0], filter_df[1])\n",
    "        return f(wavelength)\n",
    "    else:\n",
    "        return fac[1]"
   ]
  },
  {
   "cell_type": "code",
   "execution_count": 210,
   "metadata": {},
   "outputs": [],
   "source": [
    "def truncate_spectra_by_sloan_ranges(spectra):\n",
    "    \"\"\"\n",
    "    Returns dictionary indexed by sloan filters, \n",
    "    with values being ndarray of wavelengths from the spectra\n",
    "    that falls under the sloan filter range\n",
    "    \"\"\"\n",
    "    \n",
    "    sloan_ranges = {\n",
    "        'u': [2980, 4130],\n",
    "        'g': [3630, 5830],\n",
    "        'z': [7730, 11230],\n",
    "        'r': [5380, 7230],\n",
    "        'i': [6430, 8630]\n",
    "    }\n",
    "    \n",
    "    def get_range(fil):\n",
    "        fil_range = spectra[(spectra[0] >= sloan_ranges[fil][0]) & (spectra[0] <= sloan_ranges[fil][1])]\n",
    "        return fil_range\n",
    "        \n",
    "    #get_range = lambda fil: spectra[(spectra[0] > sloan_ranges[fil][0]) & (spectra[0] < sloan_ranges[fil][1])]\n",
    "    \n",
    "    return {\n",
    "        'u': get_range('u'),\n",
    "        'g': get_range('g'),\n",
    "        'z': get_range('z'),\n",
    "        'r': get_range('r'),\n",
    "        'i': get_range('i')\n",
    "    }"
   ]
  },
  {
   "cell_type": "code",
   "execution_count": 318,
   "metadata": {},
   "outputs": [],
   "source": [
    "def scale_within_range(sloan_filter, spectra):\n",
    "    \n",
    "    spectra_ranges = truncate_spectra_by_sloan_ranges(spectra)\n",
    "    in_range = spectra_ranges[sloan_filter]\n",
    "\n",
    "    if len(in_range) == 0:\n",
    "        return None\n",
    "    \n",
    "    range_filter = pd.read_csv(\"SLOAN_SDSS_\"+sloan_filter+\".dat\", header=None, delimiter=\" \")\n",
    "    get_filter_fac = lambda w: get_fac(w, range_filter)\n",
    "    get_filter_facs = np.vectorize(get_filter_fac)\n",
    "    \n",
    "    w_factors = get_filter_facs(in_range[0]) # assuming order is the same\n",
    "    scaled = in_range[1] * w_factors\n",
    "    return scaled"
   ]
  },
  {
   "cell_type": "markdown",
   "metadata": {},
   "source": [
    "**Calculation to convert flux values to magnitude, based on Vega System:**\n",
    "\n",
    "Zero Point: 1568.54 (Jy)\n",
    "\n"
   ]
  },
  {
   "cell_type": "code",
   "execution_count": 222,
   "metadata": {
    "collapsed": true
   },
   "outputs": [],
   "source": [
    "def flux_to_magnitude(flux):\n",
    "    return 3.639e-9 - 2.5*np.log(flux/1568.54)"
   ]
  },
  {
   "cell_type": "code",
   "execution_count": 398,
   "metadata": {},
   "outputs": [],
   "source": [
    "def get_magnitudes_at_epoch(spec_at_epoch):\n",
    "    spec_at_epoch = spec_at_epoch if type(spec_at_epoch) is str else str(spec_at_epoch)\n",
    "    \n",
    "    spectra = pd.read_csv(spec_at_epoch+\".csv\", header=None, skiprows=[0], usecols=[0,1])    \n",
    "\n",
    "    sums = {'u':0,'g':0,'z':0,'r':0,'i':0}\n",
    "    for f in sums.keys():\n",
    "        n = scale_within_range(f, spectra)\n",
    "        if n is not None:\n",
    "            sums[f] = n.sum()\n",
    "    \n",
    "    non_zero_sums = filter(lambda s: s != 0, sums.values())\n",
    "    f2m = np.vectorize(flux_to_magnitude)\n",
    "    return np.asarray(f2m(non_zero_sums)) # discards the filter label"
   ]
  },
  {
   "cell_type": "code",
   "execution_count": 382,
   "metadata": {},
   "outputs": [],
   "source": [
    "spectra_epoch = {\n",
    "    1: {'epoch': 54361.00, 'magnitudes': None},\n",
    "    2: {'epoch': 54363.46, 'magnitudes': None},\n",
    "    3: {'epoch': 54365.38, 'magnitudes': None},\n",
    "    4: {'epoch': 54376.32, 'magnitudes': None},\n",
    "    5: {'epoch': 54376.36, 'magnitudes': None},\n",
    "    6: {'epoch': 54379.44, 'magnitudes': None},\n",
    "    7: {'epoch': 54381.35, 'magnitudes': None},\n",
    "    8: {'epoch': 54381.35, 'magnitudes': None},\n",
    "    9: {'epoch': 54389.28, 'magnitudes': None},\n",
    "    10: {'epoch': 54408.21, 'magnitudes': None},\n",
    "    11: {'epoch': 54408.25,  'magnitudes': None}\n",
    "}\n",
    "\n",
    "for i in xrange(1, 12):\n",
    "    spectra_epoch[i]['magnitudes'] = get_magnitudes_at_epoch(i)"
   ]
  },
  {
   "cell_type": "markdown",
   "metadata": {},
   "source": [
    "**Epoch and corresponding magnitudes computed:**"
   ]
  },
  {
   "cell_type": "code",
   "execution_count": 388,
   "metadata": {
    "scrolled": false
   },
   "outputs": [
    {
     "name": "stdout",
     "output_type": "stream",
     "text": [
      "{1: {'epoch': 54361.0,\n",
      "     'magnitudes': array([ 99.83547456,  96.31020782,  97.95921443,  98.77825852,  93.05079035])},\n",
      " 2: {'epoch': 54363.46,\n",
      "     'magnitudes': array([ 97.17370837,  93.71640205,  99.42054431,  92.92887865])},\n",
      " 3: {'epoch': 54365.38,\n",
      "     'magnitudes': array([ 92.32337114,  90.06251214,  96.85034868,  99.18504636,  90.33226519])},\n",
      " 4: {'epoch': 54376.32,\n",
      "     'magnitudes': array([  99.79017993,  103.0932198 ,   96.1909265 ])},\n",
      " 5: {'epoch': 54376.36,\n",
      "     'magnitudes': array([ 101.44864131,   98.30560455,  106.52874751,  101.43122979])},\n",
      " 6: {'epoch': 54379.44,\n",
      "     'magnitudes': array([  98.73300307,   94.21889531,  102.39061962,   94.26364134])},\n",
      " 7: {'epoch': 54381.35,\n",
      "     'magnitudes': array([  96.16167425,  105.64144667,   95.35600655])},\n",
      " 8: {'epoch': 54381.35,\n",
      "     'magnitudes': array([  98.89646051,   99.42967429,  103.15047358])},\n",
      " 9: {'epoch': 54389.28,\n",
      "     'magnitudes': array([ 103.91338073,  100.53610252,  112.47582321,  109.4176501 ,\n",
      "        101.28085262])},\n",
      " 10: {'epoch': 54408.21,\n",
      "      'magnitudes': array([ 103.2925424 ,  109.07786933,  101.59222698])},\n",
      " 11: {'epoch': 54408.25,\n",
      "      'magnitudes': array([ 103.13493517,  101.25254416,  109.05670277,  115.75337328])}}\n"
     ]
    }
   ],
   "source": [
    "pprint.pprint(spectra_epoch)"
   ]
  },
  {
   "cell_type": "code",
   "execution_count": 389,
   "metadata": {},
   "outputs": [],
   "source": [
    "epochs = [spectra_epoch[x]['epoch'] for x in xrange(1,12)]\n",
    "magnitudes = [spectra_epoch[x]['magnitudes'] for x in xrange(1,12)]"
   ]
  },
  {
   "cell_type": "code",
   "execution_count": 396,
   "metadata": {},
   "outputs": [],
   "source": [
    "for epoch in xrange(11):\n",
    "    plt.scatter([epochs[epoch]]*len(magnitudes[epoch]), magnitudes[epoch])"
   ]
  },
  {
   "cell_type": "code",
   "execution_count": 397,
   "metadata": {
    "scrolled": true
   },
   "outputs": [
    {
     "data": {
      "image/png": "[encoded data removed]",
      "text/plain": [
       "<matplotlib.figure.Figure at 0x1812190090>"
      ]
     },
     "metadata": {},
     "output_type": "display_data"
    }
   ],
   "source": [
    "plt.show()"
   ]
  },
  {
   "cell_type": "code",
   "execution_count": null,
   "metadata": {
    "collapsed": true
   },
   "outputs": [],
   "source": []
  }
 ],
 "metadata": {
  "kernelspec": {
   "display_name": "Python 2",
   "language": "python",
   "name": "python2"
  },
  "language_info": {
   "codemirror_mode": {
    "name": "ipython",
    "version": 2
   },
   "file_extension": ".py",
   "mimetype": "text/x-python",
   "name": "python",
   "nbconvert_exporter": "python",
   "pygments_lexer": "ipython2",
   "version": "2.7.13"
  }
 },
 "nbformat": 4,
 "nbformat_minor": 2
}
