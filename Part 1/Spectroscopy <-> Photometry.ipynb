{
 "cells": [
  {
   "cell_type": "code",
   "execution_count": 11,
   "metadata": {
    "collapsed": true
   },
   "outputs": [],
   "source": [
    "import numpy as np\n",
    "import pandas as pd\n",
    "from scipy.interpolate import interp1d \n",
    "import matplotlib.pyplot as plt\n",
    "import pprint\n",
    "inter = interp1d"
   ]
  },
  {
   "cell_type": "code",
   "execution_count": 12,
   "metadata": {
    "collapsed": true
   },
   "outputs": [],
   "source": [
    "def get_fac(wavelength, filter_df):\n",
    "    \"\"\"\n",
    "    Gets the factor filter scales a particular wavelength by,\n",
    "    or interpolate for the factor if wavelength factor is not explicitly\n",
    "    provided by filter.\n",
    "    \"\"\"\n",
    "    #print \"wavelength {}\".format(wavelength)\n",
    "    fac = filter_df[filter_df[0] == wavelength]\n",
    "    if len(fac) is 0:\n",
    "        f = inter(filter_df[0], filter_df[1])\n",
    "        return f(wavelength)\n",
    "    else:\n",
    "        return fac[1]"
   ]
  },
  {
   "cell_type": "code",
   "execution_count": 13,
   "metadata": {
    "collapsed": true
   },
   "outputs": [],
   "source": [
    "def truncate_spectra_by_sloan_ranges(spectra):\n",
    "    \"\"\"\n",
    "    Returns dictionary indexed by sloan filters, \n",
    "    with values being ndarray of wavelengths from the spectra\n",
    "    that falls under the sloan filter range.\n",
    "    \"\"\"\n",
    "    \n",
    "    sloan_ranges = {\n",
    "        'u': [2980, 4130],\n",
    "        'g': [3630, 5830],\n",
    "        'z': [7730, 11230],\n",
    "        'r': [5380, 7230],\n",
    "        'i': [6430, 8630]\n",
    "    }\n",
    "    \n",
    "    def get_range(fil):\n",
    "        fil_range = spectra[(spectra[0] >= sloan_ranges[fil][0]) & (spectra[0] <= sloan_ranges[fil][1])]\n",
    "        return fil_range\n",
    "        \n",
    "    #get_range = lambda fil: spectra[(spectra[0] > sloan_ranges[fil][0]) & (spectra[0] < sloan_ranges[fil][1])]\n",
    "    \n",
    "    return {\n",
    "        'u': get_range('u'),\n",
    "        'g': get_range('g'),\n",
    "        'z': get_range('z'),\n",
    "        'r': get_range('r'),\n",
    "        'i': get_range('i')\n",
    "    }"
   ]
  },
  {
   "cell_type": "code",
   "execution_count": 14,
   "metadata": {
    "collapsed": true
   },
   "outputs": [],
   "source": [
    "def scale_within_range(sloan_filter, spectra):\n",
    "    \n",
    "    spectra_ranges = truncate_spectra_by_sloan_ranges(spectra)\n",
    "    in_range = spectra_ranges[sloan_filter]\n",
    "\n",
    "    if len(in_range) == 0:\n",
    "        return None\n",
    "    \n",
    "    range_filter = pd.read_csv(\"SLOAN_SDSS_\"+sloan_filter+\".dat\", header=None, delimiter=\" \")\n",
    "    get_filter_fac = lambda w: get_fac(w, range_filter)\n",
    "    get_filter_facs = np.vectorize(get_filter_fac)\n",
    "    \n",
    "    w_factors = get_filter_facs(in_range[0]) # assuming order is the same\n",
    "    scaled = in_range[1] * w_factors\n",
    "    return scaled"
   ]
  },
  {
   "cell_type": "markdown",
   "metadata": {},
   "source": [
    "**Calculation to convert flux values to magnitude, based on Vega System:**\n",
    "\n",
    "Zero Point: 1568.54 (Jy)\n",
    "\n"
   ]
  },
  {
   "cell_type": "code",
   "execution_count": 15,
   "metadata": {
    "collapsed": true
   },
   "outputs": [],
   "source": [
    "def flux_to_magnitude(flux):\n",
    "    return 3.639e-9 - 2.5*np.log10(flux/1568.54)"
   ]
  },
  {
   "cell_type": "code",
   "execution_count": 16,
   "metadata": {
    "collapsed": true
   },
   "outputs": [],
   "source": [
    "def get_magnitudes_at_epoch(spec_at_epoch):\n",
    "    spec_at_epoch = spec_at_epoch if type(spec_at_epoch) is str else str(spec_at_epoch)\n",
    "    \n",
    "    spectra = pd.read_csv(spec_at_epoch+\".csv\", header=None, skiprows=[0], usecols=[0,1])    \n",
    "\n",
    "    sums = {'u':0,'g':0,'z':0,'r':0,'i':0}\n",
    "    for f in sums.keys():\n",
    "        n = scale_within_range(f, spectra)\n",
    "        if n is not None:\n",
    "            sums[f] = n.sum()\n",
    "    \n",
    "    non_zero_sums = filter(lambda s: s != 0, sums.values())\n",
    "    f2m = np.vectorize(flux_to_magnitude)\n",
    "    return np.asarray(f2m(non_zero_sums)) # discards the filter label"
   ]
  },
  {
   "cell_type": "code",
   "execution_count": 17,
   "metadata": {},
   "outputs": [],
   "source": [
    "spectra_epoch = {\n",
    "    1: {'epoch': 54361.00, 'magnitudes': None},\n",
    "    2: {'epoch': 54363.46, 'magnitudes': None},\n",
    "    3: {'epoch': 54365.38, 'magnitudes': None},\n",
    "    4: {'epoch': 54376.32, 'magnitudes': None},\n",
    "    5: {'epoch': 54376.36, 'magnitudes': None},\n",
    "    6: {'epoch': 54379.44, 'magnitudes': None},\n",
    "    7: {'epoch': 54381.35, 'magnitudes': None},\n",
    "    8: {'epoch': 54381.35, 'magnitudes': None},\n",
    "    9: {'epoch': 54389.28, 'magnitudes': None},\n",
    "    10: {'epoch': 54408.21, 'magnitudes': None},\n",
    "    11: {'epoch': 54408.25,  'magnitudes': None}\n",
    "}\n",
    "\n",
    "for i in xrange(1, 12):\n",
    "    spectra_epoch[i]['magnitudes'] = get_magnitudes_at_epoch(i)"
   ]
  },
  {
   "cell_type": "markdown",
   "metadata": {},
   "source": [
    "**Epoch and corresponding magnitudes computed:**"
   ]
  },
  {
   "cell_type": "code",
   "execution_count": 18,
   "metadata": {
    "scrolled": false
   },
   "outputs": [
    {
     "name": "stdout",
     "output_type": "stream",
     "text": [
      "{1: {'epoch': 54361.0,\n",
      "     'magnitudes': array([ 43.3579957 ,  41.82699181,  42.54314628,  42.89885261,  40.41144479])},\n",
      " 2: {'epoch': 54363.46,\n",
      "     'magnitudes': array([ 42.20200533,  40.70051628,  43.17779378,  40.35849921])},\n",
      " 3: {'epoch': 54365.38,\n",
      "     'magnitudes': array([ 40.09553064,  39.11365205,  42.06157201,  43.07551832,  39.23080431])},\n",
      " 4: {'epoch': 54376.32,\n",
      "     'magnitudes': array([ 43.3383245 ,  44.77281648,  41.77518859])},\n",
      " 5: {'epoch': 54376.36,\n",
      "     'magnitudes': array([ 44.05858512,  42.6935816 ,  46.26484721,  44.05102339])},\n",
      " 6: {'epoch': 54379.44,\n",
      "     'magnitudes': array([ 42.87919842,  40.91874633,  44.4676811 ,  40.93817928])},\n",
      " 7: {'epoch': 54381.35,\n",
      "     'magnitudes': array([ 41.7624845 ,  45.87949735,  41.41258746])},\n",
      " 8: {'epoch': 54381.35,\n",
      "     'magnitudes': array([ 42.95018708,  43.18175888,  44.79768148])},\n",
      " 9: {'epoch': 54389.28,\n",
      "     'magnitudes': array([ 45.12900785,  43.66227456,  48.84762937,  47.51948166,  43.98571542])},\n",
      " 10: {'epoch': 54408.21,\n",
      "      'magnitudes': array([ 44.85938119,  47.37191675,  44.12094358])},\n",
      " 11: {'epoch': 54408.25,\n",
      "      'magnitudes': array([ 44.79093324,  43.97342121,  47.36272423,  50.27105128])}}\n"
     ]
    }
   ],
   "source": [
    "pprint.pprint(spectra_epoch)"
   ]
  },
  {
   "cell_type": "code",
   "execution_count": 28,
   "metadata": {
    "collapsed": true
   },
   "outputs": [],
   "source": [
    "epochs = [spectra_epoch[x]['epoch'] for x in xrange(1,12)]\n",
    "magnitudes = [spectra_epoch[x]['magnitudes'] for x in xrange(1,12)]"
   ]
  },
  {
   "cell_type": "code",
   "execution_count": 44,
   "metadata": {
    "collapsed": true
   },
   "outputs": [],
   "source": [
    "scale_fac = 2.3\n",
    "for epoch in xrange(11):\n",
    "    plt.scatter([epochs[epoch]]*len(magnitudes[epoch]), magnitudes[epoch]/scale_fac)"
   ]
  },
  {
   "cell_type": "code",
   "execution_count": 43,
   "metadata": {
    "scrolled": true
   },
   "outputs": [
    {
     "data": {
      "image/png": "[encoded data removed]",
      "text/plain": [
       "<matplotlib.figure.Figure at 0x114dc33d0>"
      ]
     },
     "metadata": {},
     "output_type": "display_data"
    }
   ],
   "source": [
    "plt.gca().invert_yaxis()\n",
    "\n",
    "plt.show()"
   ]
  },
  {
   "cell_type": "code",
   "execution_count": null,
   "metadata": {
    "collapsed": true
   },
   "outputs": [],
   "source": []
  }
 ],
 "metadata": {
  "kernelspec": {
   "display_name": "Python 2",
   "language": "python",
   "name": "python2"
  },
  "language_info": {
   "codemirror_mode": {
    "name": "ipython",
    "version": 2
   },
   "file_extension": ".py",
   "mimetype": "text/x-python",
   "name": "python",
   "nbconvert_exporter": "python",
   "pygments_lexer": "ipython2",
   "version": "2.7.13"
  }
 },
 "nbformat": 4,
 "nbformat_minor": 2
}
