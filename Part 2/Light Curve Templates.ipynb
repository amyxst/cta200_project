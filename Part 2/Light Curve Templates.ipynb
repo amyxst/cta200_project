{
 "cells": [
  {
   "cell_type": "code",
   "execution_count": 33,
   "metadata": {
    "collapsed": true
   },
   "outputs": [],
   "source": [
    "%matplotlib inline\n",
    "\n",
    "import pandas as pd\n",
    "import matplotlib.pyplot as plt"
   ]
  },
  {
   "cell_type": "code",
   "execution_count": 95,
   "metadata": {},
   "outputs": [
    {
     "name": "stderr",
     "output_type": "stream",
     "text": [
      "/Users/amyxiao/anaconda2/lib/python2.7/site-packages/ipykernel_launcher.py:1: ParserWarning: Falling back to the 'python' engine because the 'c' engine does not support regex separators (separators > 1 char and different from '\\s+' are interpreted as regex); you can avoid this warning by specifying engine='python'.\n",
      "  \"\"\"Entry point for launching an IPython kernel.\n"
     ]
    }
   ],
   "source": [
    "sn_template = pd.read_csv(\"sn1a_lc.v1.2.dat.gz\", compression=\"gzip\", delimiter=\"\\s{1,}\", header=None)"
   ]
  },
  {
   "cell_type": "code",
   "execution_count": 96,
   "metadata": {},
   "outputs": [
    {
     "data": {
      "text/html": [
       "<div>\n",
       "<style>\n",
       "    .dataframe thead tr:only-child th {\n",
       "        text-align: right;\n",
       "    }\n",
       "\n",
       "    .dataframe thead th {\n",
       "        text-align: left;\n",
       "    }\n",
       "\n",
       "    .dataframe tbody tr th {\n",
       "        vertical-align: top;\n",
       "    }\n",
       "</style>\n",
       "<table border=\"1\" class=\"dataframe\">\n",
       "  <thead>\n",
       "    <tr style=\"text-align: right;\">\n",
       "      <th></th>\n",
       "      <th>0</th>\n",
       "      <th>1</th>\n",
       "      <th>2</th>\n",
       "      <th>3</th>\n",
       "      <th>4</th>\n",
       "      <th>5</th>\n",
       "      <th>6</th>\n",
       "      <th>7</th>\n",
       "      <th>8</th>\n",
       "    </tr>\n",
       "  </thead>\n",
       "  <tbody>\n",
       "    <tr>\n",
       "      <th>0</th>\n",
       "      <td>-20.0</td>\n",
       "      <td>50.00</td>\n",
       "      <td>50.00</td>\n",
       "      <td>50.00</td>\n",
       "      <td>50.00</td>\n",
       "      <td>50.00</td>\n",
       "      <td>50.00</td>\n",
       "      <td>50.00</td>\n",
       "      <td>50.00</td>\n",
       "    </tr>\n",
       "    <tr>\n",
       "      <th>1</th>\n",
       "      <td>-19.0</td>\n",
       "      <td>4.32</td>\n",
       "      <td>4.76</td>\n",
       "      <td>5.18</td>\n",
       "      <td>5.13</td>\n",
       "      <td>5.58</td>\n",
       "      <td>6.76</td>\n",
       "      <td>6.94</td>\n",
       "      <td>6.77</td>\n",
       "    </tr>\n",
       "    <tr>\n",
       "      <th>2</th>\n",
       "      <td>-18.0</td>\n",
       "      <td>3.44</td>\n",
       "      <td>3.88</td>\n",
       "      <td>4.30</td>\n",
       "      <td>4.25</td>\n",
       "      <td>4.70</td>\n",
       "      <td>5.26</td>\n",
       "      <td>5.44</td>\n",
       "      <td>5.27</td>\n",
       "    </tr>\n",
       "    <tr>\n",
       "      <th>3</th>\n",
       "      <td>-17.0</td>\n",
       "      <td>2.81</td>\n",
       "      <td>3.25</td>\n",
       "      <td>3.67</td>\n",
       "      <td>3.62</td>\n",
       "      <td>4.07</td>\n",
       "      <td>4.38</td>\n",
       "      <td>4.56</td>\n",
       "      <td>4.39</td>\n",
       "    </tr>\n",
       "    <tr>\n",
       "      <th>4</th>\n",
       "      <td>-16.0</td>\n",
       "      <td>2.33</td>\n",
       "      <td>2.77</td>\n",
       "      <td>3.19</td>\n",
       "      <td>3.14</td>\n",
       "      <td>3.49</td>\n",
       "      <td>3.75</td>\n",
       "      <td>3.93</td>\n",
       "      <td>3.76</td>\n",
       "    </tr>\n",
       "    <tr>\n",
       "      <th>5</th>\n",
       "      <td>-15.0</td>\n",
       "      <td>1.93</td>\n",
       "      <td>2.37</td>\n",
       "      <td>2.71</td>\n",
       "      <td>2.66</td>\n",
       "      <td>3.11</td>\n",
       "      <td>3.27</td>\n",
       "      <td>3.45</td>\n",
       "      <td>3.28</td>\n",
       "    </tr>\n",
       "    <tr>\n",
       "      <th>6</th>\n",
       "      <td>-14.0</td>\n",
       "      <td>1.57</td>\n",
       "      <td>2.06</td>\n",
       "      <td>2.31</td>\n",
       "      <td>2.26</td>\n",
       "      <td>2.69</td>\n",
       "      <td>2.87</td>\n",
       "      <td>3.05</td>\n",
       "      <td>2.88</td>\n",
       "    </tr>\n",
       "    <tr>\n",
       "      <th>7</th>\n",
       "      <td>-13.0</td>\n",
       "      <td>1.18</td>\n",
       "      <td>1.70</td>\n",
       "      <td>2.02</td>\n",
       "      <td>1.90</td>\n",
       "      <td>2.17</td>\n",
       "      <td>2.58</td>\n",
       "      <td>2.76</td>\n",
       "      <td>2.59</td>\n",
       "    </tr>\n",
       "    <tr>\n",
       "      <th>8</th>\n",
       "      <td>-12.0</td>\n",
       "      <td>0.80</td>\n",
       "      <td>1.38</td>\n",
       "      <td>1.71</td>\n",
       "      <td>1.55</td>\n",
       "      <td>1.75</td>\n",
       "      <td>2.27</td>\n",
       "      <td>2.45</td>\n",
       "      <td>2.28</td>\n",
       "    </tr>\n",
       "    <tr>\n",
       "      <th>9</th>\n",
       "      <td>-11.0</td>\n",
       "      <td>0.46</td>\n",
       "      <td>1.09</td>\n",
       "      <td>1.41</td>\n",
       "      <td>1.11</td>\n",
       "      <td>1.38</td>\n",
       "      <td>1.97</td>\n",
       "      <td>2.15</td>\n",
       "      <td>1.98</td>\n",
       "    </tr>\n",
       "  </tbody>\n",
       "</table>\n",
       "</div>"
      ],
      "text/plain": [
       "      0      1      2      3      4      5      6      7      8\n",
       "0 -20.0  50.00  50.00  50.00  50.00  50.00  50.00  50.00  50.00\n",
       "1 -19.0   4.32   4.76   5.18   5.13   5.58   6.76   6.94   6.77\n",
       "2 -18.0   3.44   3.88   4.30   4.25   4.70   5.26   5.44   5.27\n",
       "3 -17.0   2.81   3.25   3.67   3.62   4.07   4.38   4.56   4.39\n",
       "4 -16.0   2.33   2.77   3.19   3.14   3.49   3.75   3.93   3.76\n",
       "5 -15.0   1.93   2.37   2.71   2.66   3.11   3.27   3.45   3.28\n",
       "6 -14.0   1.57   2.06   2.31   2.26   2.69   2.87   3.05   2.88\n",
       "7 -13.0   1.18   1.70   2.02   1.90   2.17   2.58   2.76   2.59\n",
       "8 -12.0   0.80   1.38   1.71   1.55   1.75   2.27   2.45   2.28\n",
       "9 -11.0   0.46   1.09   1.41   1.11   1.38   1.97   2.15   1.98"
      ]
     },
     "execution_count": 96,
     "metadata": {},
     "output_type": "execute_result"
    }
   ],
   "source": [
    "sn_template.head(10)"
   ]
  },
  {
   "cell_type": "code",
   "execution_count": 144,
   "metadata": {},
   "outputs": [],
   "source": [
    "sn_template = sn_template.drop(0) # first row temporarily dropped, skewing data"
   ]
  },
  {
   "cell_type": "code",
   "execution_count": 158,
   "metadata": {},
   "outputs": [],
   "source": [
    "sn_template_min_magnitude = sn_template.iloc[:,1:].min().min()\n",
    "sn_template_max_magnitude = sn_template.iloc[:,1:].max().max()"
   ]
  },
  {
   "cell_type": "code",
   "execution_count": 184,
   "metadata": {},
   "outputs": [
    {
     "data": {
      "text/plain": [
       "89"
      ]
     },
     "execution_count": 184,
     "metadata": {},
     "output_type": "execute_result"
    }
   ],
   "source": [
    "template_time = sn_template.loc[:,0].as_matrix()[1:]\n",
    "len(template_time)"
   ]
  },
  {
   "cell_type": "code",
   "execution_count": 111,
   "metadata": {},
   "outputs": [
    {
     "data": {
      "text/plain": [
       "90"
      ]
     },
     "execution_count": 111,
     "metadata": {},
     "output_type": "execute_result"
    }
   ],
   "source": [
    "y_test = sn_template.iloc[:, 1].as_matrix()[1:]\n",
    "len(y_test)"
   ]
  },
  {
   "cell_type": "code",
   "execution_count": 157,
   "metadata": {},
   "outputs": [
    {
     "data": {
      "text/plain": [
       "'\\nfor i, x in enumerate(x_vals):\\n    if i == 0: continue\\n    plt.scatter(x_, sn_template.iloc[i, 1:].as_matrix())\\n'"
      ]
     },
     "execution_count": 157,
     "metadata": {},
     "output_type": "execute_result"
    },
    {
     "data": {
      "image/png": "[encoded data removed]",
      "text/plain": [
       "<matplotlib.figure.Figure at 0x1082d0690>"
      ]
     },
     "metadata": {},
     "output_type": "display_data"
    }
   ],
   "source": [
    "plt.gca().invert_yaxis()\n",
    "\n",
    "for band in xrange(1, 9):\n",
    "    band_vals = sn_template.iloc[:, band].as_matrix()\n",
    "    plt.scatter(template_time, band_vals)\n",
    "\n",
    "\"\"\"\n",
    "for i, x in enumerate(x_vals):\n",
    "    if i == 0: continue\n",
    "    plt.scatter(x_, sn_template.iloc[i, 1:].as_matrix())\n",
    "\"\"\""
   ]
  },
  {
   "cell_type": "code",
   "execution_count": 83,
   "metadata": {},
   "outputs": [],
   "source": [
    "sn1_curve = pd.read_csv(\"sn2007jg_photometry.txt\")"
   ]
  },
  {
   "cell_type": "code",
   "execution_count": 84,
   "metadata": {},
   "outputs": [
    {
     "data": {
      "text/html": [
       "<div>\n",
       "<style>\n",
       "    .dataframe thead tr:only-child th {\n",
       "        text-align: right;\n",
       "    }\n",
       "\n",
       "    .dataframe thead th {\n",
       "        text-align: left;\n",
       "    }\n",
       "\n",
       "    .dataframe tbody tr th {\n",
       "        vertical-align: top;\n",
       "    }\n",
       "</style>\n",
       "<table border=\"1\" class=\"dataframe\">\n",
       "  <thead>\n",
       "    <tr style=\"text-align: right;\">\n",
       "      <th></th>\n",
       "      <th>event</th>\n",
       "      <th>time</th>\n",
       "      <th>magnitude</th>\n",
       "      <th>e_magnitude</th>\n",
       "      <th>upperlimit</th>\n",
       "      <th>band</th>\n",
       "      <th>instrument</th>\n",
       "      <th>telescope</th>\n",
       "      <th>source</th>\n",
       "    </tr>\n",
       "  </thead>\n",
       "  <tbody>\n",
       "    <tr>\n",
       "      <th>0</th>\n",
       "      <td>SN2007jg</td>\n",
       "      <td>54357.422816</td>\n",
       "      <td>18.472</td>\n",
       "      <td>0.010</td>\n",
       "      <td>F</td>\n",
       "      <td>r'</td>\n",
       "      <td>NaN</td>\n",
       "      <td>SDSS</td>\n",
       "      <td>2014arXiv1401.3317S</td>\n",
       "    </tr>\n",
       "    <tr>\n",
       "      <th>1</th>\n",
       "      <td>SN2007jg</td>\n",
       "      <td>54357.423645</td>\n",
       "      <td>18.616</td>\n",
       "      <td>0.013</td>\n",
       "      <td>F</td>\n",
       "      <td>i'</td>\n",
       "      <td>NaN</td>\n",
       "      <td>SDSS</td>\n",
       "      <td>2014arXiv1401.3317S</td>\n",
       "    </tr>\n",
       "    <tr>\n",
       "      <th>2</th>\n",
       "      <td>SN2007jg</td>\n",
       "      <td>54357.424475</td>\n",
       "      <td>20.106</td>\n",
       "      <td>0.068</td>\n",
       "      <td>F</td>\n",
       "      <td>u'</td>\n",
       "      <td>NaN</td>\n",
       "      <td>SDSS</td>\n",
       "      <td>2014arXiv1401.3317S</td>\n",
       "    </tr>\n",
       "    <tr>\n",
       "      <th>3</th>\n",
       "      <td>SN2007jg</td>\n",
       "      <td>54357.425304</td>\n",
       "      <td>18.474</td>\n",
       "      <td>0.029</td>\n",
       "      <td>F</td>\n",
       "      <td>z'</td>\n",
       "      <td>NaN</td>\n",
       "      <td>SDSS</td>\n",
       "      <td>2014arXiv1401.3317S</td>\n",
       "    </tr>\n",
       "    <tr>\n",
       "      <th>4</th>\n",
       "      <td>SN2007jg</td>\n",
       "      <td>54357.426133</td>\n",
       "      <td>18.390</td>\n",
       "      <td>0.009</td>\n",
       "      <td>F</td>\n",
       "      <td>g'</td>\n",
       "      <td>NaN</td>\n",
       "      <td>SDSS</td>\n",
       "      <td>2014arXiv1401.3317S</td>\n",
       "    </tr>\n",
       "  </tbody>\n",
       "</table>\n",
       "</div>"
      ],
      "text/plain": [
       "      event          time  magnitude  e_magnitude upperlimit band  instrument  \\\n",
       "0  SN2007jg  54357.422816     18.472        0.010          F   r'         NaN   \n",
       "1  SN2007jg  54357.423645     18.616        0.013          F   i'         NaN   \n",
       "2  SN2007jg  54357.424475     20.106        0.068          F   u'         NaN   \n",
       "3  SN2007jg  54357.425304     18.474        0.029          F   z'         NaN   \n",
       "4  SN2007jg  54357.426133     18.390        0.009          F   g'         NaN   \n",
       "\n",
       "  telescope               source  \n",
       "0      SDSS  2014arXiv1401.3317S  \n",
       "1      SDSS  2014arXiv1401.3317S  \n",
       "2      SDSS  2014arXiv1401.3317S  \n",
       "3      SDSS  2014arXiv1401.3317S  \n",
       "4      SDSS  2014arXiv1401.3317S  "
      ]
     },
     "execution_count": 84,
     "metadata": {},
     "output_type": "execute_result"
    }
   ],
   "source": [
    "sn1_curve.head(5)"
   ]
  },
  {
   "cell_type": "code",
   "execution_count": 87,
   "metadata": {},
   "outputs": [],
   "source": [
    "sn_magnitude = sn1_curve['magnitude']\n",
    "sn_time = sn1_curve['time']"
   ]
  },
  {
   "cell_type": "code",
   "execution_count": 139,
   "metadata": {},
   "outputs": [
    {
     "data": {
      "text/plain": [
       "54357.422815999998"
      ]
     },
     "execution_count": 139,
     "metadata": {},
     "output_type": "execute_result"
    }
   ],
   "source": [
    "sn_time.min()"
   ]
  },
  {
   "cell_type": "code",
   "execution_count": 91,
   "metadata": {},
   "outputs": [
    {
     "data": {
      "text/plain": [
       "<matplotlib.collections.PathCollection at 0x107774b10>"
      ]
     },
     "execution_count": 91,
     "metadata": {},
     "output_type": "execute_result"
    },
    {
     "data": {
      "image/png": "[encoded data removed]",
      "text/plain": [
       "<matplotlib.figure.Figure at 0x106d02750>"
      ]
     },
     "metadata": {},
     "output_type": "display_data"
    }
   ],
   "source": [
    "plt.gca().invert_yaxis()\n",
    "\n",
    "plt.scatter(sn_time, sn_magnitude)"
   ]
  },
  {
   "cell_type": "code",
   "execution_count": 93,
   "metadata": {},
   "outputs": [
    {
     "data": {
      "text/plain": [
       "(54357.422815999998, 54438.398000000001)"
      ]
     },
     "execution_count": 93,
     "metadata": {},
     "output_type": "execute_result"
    }
   ],
   "source": [
    "sn_time.min(), sn_time.max()"
   ]
  },
  {
   "cell_type": "code",
   "execution_count": 94,
   "metadata": {},
   "outputs": [
    {
     "data": {
      "text/plain": [
       "(17.449000000000002, 22.718000000000004)"
      ]
     },
     "execution_count": 94,
     "metadata": {},
     "output_type": "execute_result"
    }
   ],
   "source": [
    "sn_magnitude.min(), sn_magnitude.max()"
   ]
  },
  {
   "cell_type": "code",
   "execution_count": 185,
   "metadata": {
    "collapsed": true
   },
   "outputs": [],
   "source": [
    "template_time = (template_time + 20 + sn_time.min())"
   ]
  },
  {
   "cell_type": "code",
   "execution_count": 187,
   "metadata": {},
   "outputs": [
    {
     "data": {
      "image/png": "[encoded data removed]",
      "text/plain": [
       "<matplotlib.figure.Figure at 0x106fa5e90>"
      ]
     },
     "metadata": {},
     "output_type": "display_data"
    }
   ],
   "source": [
    "plt.gca().invert_yaxis()\n",
    "\n",
    "for band in xrange(1, 9):\n",
    "    band_vals = sn_template.iloc[:, band].as_matrix()[1:]\n",
    "    plt.scatter(template_time, band_vals)"
   ]
  },
  {
   "cell_type": "code",
   "execution_count": 127,
   "metadata": {},
   "outputs": [
    {
     "data": {
      "text/plain": [
       "'\\n# if want to scale out t further, but looks like it might not be necessary here:\\ntime_fac = (template_time.max() - template_time.min()) / (sn_time.max() - sn_time.min())\\ntemplate_time *= time_fac\\n'"
      ]
     },
     "execution_count": 127,
     "metadata": {},
     "output_type": "execute_result"
    }
   ],
   "source": [
    "\"\"\"\n",
    "# if want to scale out t further, but looks like it might not be necessary here:\n",
    "time_fac = (template_time.max() - template_time.min()) / (sn_time.max() - sn_time.min())\n",
    "template_time *= time_fac\n",
    "\"\"\""
   ]
  },
  {
   "cell_type": "code",
   "execution_count": 137,
   "metadata": {},
   "outputs": [],
   "source": [
    "sn_template_time_scaled = sn_template.loc[0] + 20 + sn_time.min()"
   ]
  },
  {
   "cell_type": "code",
   "execution_count": 181,
   "metadata": {},
   "outputs": [
    {
     "data": {
      "text/plain": [
       "(22.718000000000004, 17.449000000000002)"
      ]
     },
     "execution_count": 181,
     "metadata": {},
     "output_type": "execute_result"
    }
   ],
   "source": [
    "sn_max_magnitude = sn_magnitude.max()\n",
    "sn_min_magnitude = sn_magnitude.min()\n",
    "sn_max_magnitude, sn_min_magnitude"
   ]
  },
  {
   "cell_type": "code",
   "execution_count": 172,
   "metadata": {},
   "outputs": [
    {
     "data": {
      "text/plain": [
       "1.417726323780603"
      ]
     },
     "execution_count": 172,
     "metadata": {},
     "output_type": "execute_result"
    }
   ],
   "source": [
    "sn_template_scale = (sn_template_max_magnitude - sn_template_min_magnitude) / (sn_max_magnitude - sn_min_magnitude)\n",
    "sn_template_scale"
   ]
  },
  {
   "cell_type": "code",
   "execution_count": 190,
   "metadata": {},
   "outputs": [
    {
     "data": {
      "text/plain": [
       "<matplotlib.collections.PathCollection at 0x106e52950>"
      ]
     },
     "execution_count": 190,
     "metadata": {},
     "output_type": "execute_result"
    },
    {
     "data": {
      "image/png": "[encoded data removed]",
      "text/plain": [
       "<matplotlib.figure.Figure at 0x106f3a790>"
      ]
     },
     "metadata": {},
     "output_type": "display_data"
    }
   ],
   "source": [
    "plt.gca().invert_yaxis()\n",
    "\n",
    "for band in xrange(1, 9):\n",
    "    band_vals = sn_template.iloc[:, band].as_matrix()[1:]\n",
    "    plt.scatter(template_time, band_vals+abs(sn_template_min_magnitude)+sn_min_magnitude)\n",
    "\n",
    "plt.scatter(sn_time, sn_magnitude)"
   ]
  },
  {
   "cell_type": "code",
   "execution_count": 180,
   "metadata": {},
   "outputs": [
    {
     "data": {
      "text/plain": [
       "<matplotlib.collections.PathCollection at 0x1075e1190>"
      ]
     },
     "execution_count": 180,
     "metadata": {},
     "output_type": "execute_result"
    },
    {
     "data": {
      "image/png": "[encoded data removed]",
      "text/plain": [
       "<matplotlib.figure.Figure at 0x107d03b50>"
      ]
     },
     "metadata": {},
     "output_type": "display_data"
    }
   ],
   "source": [
    "plt.gca().invert_yaxis()\n",
    "\n",
    "plt.scatter(sn_time, sn_magnitude)"
   ]
  },
  {
   "cell_type": "code",
   "execution_count": 191,
   "metadata": {
    "collapsed": true
   },
   "outputs": [],
   "source": [
    "from scipy.stats import chisquare"
   ]
  },
  {
   "cell_type": "code",
   "execution_count": 202,
   "metadata": {},
   "outputs": [
    {
     "name": "stdout",
     "output_type": "stream",
     "text": [
      " Chi square for band 1 Power_divergenceResult(statistic=89.300496862811599, pvalue=0.47111019660741971)\n",
      "Chi square for band 2 Power_divergenceResult(statistic=71.831102437470093, pvalue=0.9081651467453915)\n",
      "Chi square for band 3 Power_divergenceResult(statistic=72.123638780936815, pvalue=0.90392825643611374)\n",
      "Chi square for band 4 Power_divergenceResult(statistic=66.461045062320224, pvalue=0.96458048214561742)\n",
      "Chi square for band 5 Power_divergenceResult(statistic=57.031517630873935, pvalue=0.9966586757568584)\n",
      "Chi square for band 6 Power_divergenceResult(statistic=57.07326812428078, pvalue=0.99661578806221629)\n",
      "Chi square for band 7 Power_divergenceResult(statistic=62.165479345284503, pvalue=0.98635558354689357)\n",
      "Chi square for band 8 Power_divergenceResult(statistic=61.909723580693182, pvalue=0.98718655164554225)\n"
     ]
    }
   ],
   "source": [
    "for band in xrange(1, 9):\n",
    "    print \"Chi square for band {}\".format(band), chisquare(sn_template.iloc[:, band].as_matrix())."
   ]
  },
  {
   "cell_type": "code",
   "execution_count": 194,
   "metadata": {},
   "outputs": [
    {
     "data": {
      "text/plain": [
       "0    18.472\n",
       "1    18.616\n",
       "2    20.106\n",
       "3    18.474\n",
       "4    18.390\n",
       "5    17.648\n",
       "6    17.907\n",
       "7    18.851\n",
       "8    17.914\n",
       "9    17.646\n",
       "Name: magnitude, dtype: float64"
      ]
     },
     "execution_count": 194,
     "metadata": {},
     "output_type": "execute_result"
    }
   ],
   "source": [
    "sn_magnitude.head(10)"
   ]
  },
  {
   "cell_type": "code",
   "execution_count": null,
   "metadata": {
    "collapsed": true
   },
   "outputs": [],
   "source": []
  }
 ],
 "metadata": {
  "kernelspec": {
   "display_name": "Python 2",
   "language": "python",
   "name": "python2"
  },
  "language_info": {
   "codemirror_mode": {
    "name": "ipython",
    "version": 2
   },
   "file_extension": ".py",
   "mimetype": "text/x-python",
   "name": "python",
   "nbconvert_exporter": "python",
   "pygments_lexer": "ipython2",
   "version": "2.7.13"
  }
 },
 "nbformat": 4,
 "nbformat_minor": 2
}
