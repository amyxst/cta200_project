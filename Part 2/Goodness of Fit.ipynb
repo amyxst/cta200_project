{
 "cells": [
  {
   "cell_type": "code",
   "execution_count": 344,
   "metadata": {
    "collapsed": true
   },
   "outputs": [],
   "source": [
    "%matplotlib inline\n",
    "\n",
    "import pandas as pd\n",
    "import matplotlib.pyplot as plt\n",
    "import numpy as np\n",
    "\n",
    "from scipy.stats import chisquare\n",
    "from scipy.interpolate import interp1d \n",
    "inter = interp1d"
   ]
  },
  {
   "cell_type": "markdown",
   "metadata": {},
   "source": [
    "We will employ the Pearson Chi-Square test to show quantitatively that SN2007ld is better classified as a Type II P SN, rather thana Type Ia SN."
   ]
  },
  {
   "cell_type": "markdown",
   "metadata": {},
   "source": [
    "## Preparing Template Data"
   ]
  },
  {
   "cell_type": "code",
   "execution_count": 345,
   "metadata": {},
   "outputs": [
    {
     "name": "stderr",
     "output_type": "stream",
     "text": [
      "/Users/amyxiao/anaconda2/lib/python2.7/site-packages/ipykernel_launcher.py:1: ParserWarning: Falling back to the 'python' engine because the 'c' engine does not support regex separators (separators > 1 char and different from '\\s+' are interpreted as regex); you can avoid this warning by specifying engine='python'.\n",
      "  \"\"\"Entry point for launching an IPython kernel.\n"
     ]
    }
   ],
   "source": [
    "sn_template = pd.read_csv(\"sn2p_lc.v1.2.dat\", delimiter=\"\\s{1,}\", header=None)"
   ]
  },
  {
   "cell_type": "code",
   "execution_count": 346,
   "metadata": {},
   "outputs": [
    {
     "data": {
      "text/html": [
       "<div>\n",
       "<style>\n",
       "    .dataframe thead tr:only-child th {\n",
       "        text-align: right;\n",
       "    }\n",
       "\n",
       "    .dataframe thead th {\n",
       "        text-align: left;\n",
       "    }\n",
       "\n",
       "    .dataframe tbody tr th {\n",
       "        vertical-align: top;\n",
       "    }\n",
       "</style>\n",
       "<table border=\"1\" class=\"dataframe\">\n",
       "  <thead>\n",
       "    <tr style=\"text-align: right;\">\n",
       "      <th></th>\n",
       "      <th>0</th>\n",
       "      <th>1</th>\n",
       "    </tr>\n",
       "  </thead>\n",
       "  <tbody>\n",
       "    <tr>\n",
       "      <th>0</th>\n",
       "      <td>-11</td>\n",
       "      <td>26.00</td>\n",
       "    </tr>\n",
       "    <tr>\n",
       "      <th>1</th>\n",
       "      <td>-10</td>\n",
       "      <td>6.00</td>\n",
       "    </tr>\n",
       "    <tr>\n",
       "      <th>2</th>\n",
       "      <td>-5</td>\n",
       "      <td>1.04</td>\n",
       "    </tr>\n",
       "    <tr>\n",
       "      <th>3</th>\n",
       "      <td>0</td>\n",
       "      <td>0.00</td>\n",
       "    </tr>\n",
       "    <tr>\n",
       "      <th>4</th>\n",
       "      <td>5</td>\n",
       "      <td>0.21</td>\n",
       "    </tr>\n",
       "  </tbody>\n",
       "</table>\n",
       "</div>"
      ],
      "text/plain": [
       "    0      1\n",
       "0 -11  26.00\n",
       "1 -10   6.00\n",
       "2  -5   1.04\n",
       "3   0   0.00\n",
       "4   5   0.21"
      ]
     },
     "execution_count": 346,
     "metadata": {},
     "output_type": "execute_result"
    }
   ],
   "source": [
    "sn_template.head()"
   ]
  },
  {
   "cell_type": "code",
   "execution_count": 347,
   "metadata": {
    "collapsed": true
   },
   "outputs": [],
   "source": [
    "sn_template_time = sn_template.iloc[:,0]\n",
    "sn_template_mag = sn_template.iloc[:,1]"
   ]
  },
  {
   "cell_type": "code",
   "execution_count": 364,
   "metadata": {},
   "outputs": [
    {
     "data": {
      "text/plain": [
       "[<matplotlib.lines.Line2D at 0x1149d1510>]"
      ]
     },
     "execution_count": 364,
     "metadata": {},
     "output_type": "execute_result"
    },
    {
     "data": {
      "image/png": "[encoded data removed]",
      "text/plain": [
       "<matplotlib.figure.Figure at 0x1148f36d0>"
      ]
     },
     "metadata": {},
     "output_type": "display_data"
    }
   ],
   "source": [
    "plt.title(\"Type II P SN Template (Figure 1)\")\n",
    "plt.plot(sn_template_time, sn_template_mag)"
   ]
  },
  {
   "cell_type": "markdown",
   "metadata": {},
   "source": [
    "## Preparing SN2007ld Data"
   ]
  },
  {
   "cell_type": "code",
   "execution_count": 349,
   "metadata": {
    "collapsed": true
   },
   "outputs": [],
   "source": [
    "sn_curve = pd.read_csv(\"sn2007ld_photometry.csv\")"
   ]
  },
  {
   "cell_type": "code",
   "execution_count": 350,
   "metadata": {},
   "outputs": [
    {
     "data": {
      "text/html": [
       "<div>\n",
       "<style>\n",
       "    .dataframe thead tr:only-child th {\n",
       "        text-align: right;\n",
       "    }\n",
       "\n",
       "    .dataframe thead th {\n",
       "        text-align: left;\n",
       "    }\n",
       "\n",
       "    .dataframe tbody tr th {\n",
       "        vertical-align: top;\n",
       "    }\n",
       "</style>\n",
       "<table border=\"1\" class=\"dataframe\">\n",
       "  <thead>\n",
       "    <tr style=\"text-align: right;\">\n",
       "      <th></th>\n",
       "      <th>event</th>\n",
       "      <th>time</th>\n",
       "      <th>magnitude</th>\n",
       "      <th>e_magnitude</th>\n",
       "      <th>upperlimit</th>\n",
       "      <th>band</th>\n",
       "      <th>instrument</th>\n",
       "      <th>telescope</th>\n",
       "      <th>source</th>\n",
       "    </tr>\n",
       "  </thead>\n",
       "  <tbody>\n",
       "    <tr>\n",
       "      <th>0</th>\n",
       "      <td>SN2007ld</td>\n",
       "      <td>54346.159166</td>\n",
       "      <td>24.821</td>\n",
       "      <td>0.915</td>\n",
       "      <td>T</td>\n",
       "      <td>r'</td>\n",
       "      <td>NaN</td>\n",
       "      <td>SDSS</td>\n",
       "      <td>2014arXiv1401.3317S</td>\n",
       "    </tr>\n",
       "    <tr>\n",
       "      <th>1</th>\n",
       "      <td>SN2007ld</td>\n",
       "      <td>54346.159166</td>\n",
       "      <td>24.821</td>\n",
       "      <td>0.803</td>\n",
       "      <td>T</td>\n",
       "      <td>r'</td>\n",
       "      <td>NaN</td>\n",
       "      <td>SDSS</td>\n",
       "      <td>2010ApJ...708..661D</td>\n",
       "    </tr>\n",
       "    <tr>\n",
       "      <th>2</th>\n",
       "      <td>SN2007ld</td>\n",
       "      <td>54346.159995</td>\n",
       "      <td>23.993</td>\n",
       "      <td>0.871</td>\n",
       "      <td>T</td>\n",
       "      <td>i'</td>\n",
       "      <td>NaN</td>\n",
       "      <td>SDSS</td>\n",
       "      <td>2014arXiv1401.3317S</td>\n",
       "    </tr>\n",
       "    <tr>\n",
       "      <th>3</th>\n",
       "      <td>SN2007ld</td>\n",
       "      <td>54346.159995</td>\n",
       "      <td>23.993</td>\n",
       "      <td>0.656</td>\n",
       "      <td>T</td>\n",
       "      <td>i'</td>\n",
       "      <td>NaN</td>\n",
       "      <td>SDSS</td>\n",
       "      <td>2010ApJ...708..661D</td>\n",
       "    </tr>\n",
       "    <tr>\n",
       "      <th>4</th>\n",
       "      <td>SN2007ld</td>\n",
       "      <td>54346.160824</td>\n",
       "      <td>24.100</td>\n",
       "      <td>1.295</td>\n",
       "      <td>T</td>\n",
       "      <td>u'</td>\n",
       "      <td>NaN</td>\n",
       "      <td>SDSS</td>\n",
       "      <td>2010ApJ...708..661D</td>\n",
       "    </tr>\n",
       "  </tbody>\n",
       "</table>\n",
       "</div>"
      ],
      "text/plain": [
       "      event          time  magnitude  e_magnitude upperlimit band  instrument  \\\n",
       "0  SN2007ld  54346.159166     24.821        0.915          T   r'         NaN   \n",
       "1  SN2007ld  54346.159166     24.821        0.803          T   r'         NaN   \n",
       "2  SN2007ld  54346.159995     23.993        0.871          T   i'         NaN   \n",
       "3  SN2007ld  54346.159995     23.993        0.656          T   i'         NaN   \n",
       "4  SN2007ld  54346.160824     24.100        1.295          T   u'         NaN   \n",
       "\n",
       "  telescope               source  \n",
       "0      SDSS  2014arXiv1401.3317S  \n",
       "1      SDSS  2010ApJ...708..661D  \n",
       "2      SDSS  2014arXiv1401.3317S  \n",
       "3      SDSS  2010ApJ...708..661D  \n",
       "4      SDSS  2010ApJ...708..661D  "
      ]
     },
     "execution_count": 350,
     "metadata": {},
     "output_type": "execute_result"
    }
   ],
   "source": [
    "sn_curve.head()"
   ]
  },
  {
   "cell_type": "code",
   "execution_count": 351,
   "metadata": {},
   "outputs": [
    {
     "data": {
      "text/plain": [
       "<matplotlib.collections.PathCollection at 0x114564b90>"
      ]
     },
     "execution_count": 351,
     "metadata": {},
     "output_type": "execute_result"
    },
    {
     "data": {
      "image/png": "[encoded data removed]",
      "text/plain": [
       "<matplotlib.figure.Figure at 0x114382150>"
      ]
     },
     "metadata": {},
     "output_type": "display_data"
    }
   ],
   "source": [
    "plt.title(\"SN2007ld (Figure 2)\")\n",
    "plt.scatter(sn_curve['time'], sn_curve['magnitude'])"
   ]
  },
  {
   "cell_type": "code",
   "execution_count": 352,
   "metadata": {},
   "outputs": [
    {
     "data": {
      "text/plain": [
       "array([\"r'\", \"i'\", \"u'\", \"z'\", \"g'\", 'V'], dtype=object)"
      ]
     },
     "execution_count": 352,
     "metadata": {},
     "output_type": "execute_result"
    }
   ],
   "source": [
    "sn_curve['band'].unique() # bands described in data"
   ]
  },
  {
   "cell_type": "code",
   "execution_count": 353,
   "metadata": {},
   "outputs": [],
   "source": [
    "sn_vband = sn_curve[sn_curve['band'] == 'V'] # extract V band (since it's the only one given by template)\n",
    "sn_vband_time = sn_vband['time']\n",
    "sn_vband_mag = sn_vband['magnitude']"
   ]
  },
  {
   "cell_type": "code",
   "execution_count": 354,
   "metadata": {},
   "outputs": [
    {
     "data": {
      "text/plain": [
       "<matplotlib.collections.PathCollection at 0x114677390>"
      ]
     },
     "execution_count": 354,
     "metadata": {},
     "output_type": "execute_result"
    },
    {
     "data": {
      "image/png": "[encoded data removed]",
      "text/plain": [
       "<matplotlib.figure.Figure at 0x11437ce90>"
      ]
     },
     "metadata": {},
     "output_type": "display_data"
    }
   ],
   "source": [
    "plt.scatter(sn_vband_time, sn_vband_mag)"
   ]
  },
  {
   "cell_type": "markdown",
   "metadata": {},
   "source": [
    "## Fitting template data to SN2007ld V band data"
   ]
  },
  {
   "cell_type": "code",
   "execution_count": 355,
   "metadata": {},
   "outputs": [],
   "source": [
    "# time\n",
    "sn_t_max = sn_vband_time.max().max()\n",
    "sn_t_min = sn_vband_time.min().min()\n",
    "\n",
    "# V magnitudes\n",
    "sn_mag_max = sn_vband_mag.max().max()\n",
    "sn_mag_min = sn_vband_mag.min().min()"
   ]
  },
  {
   "cell_type": "code",
   "execution_count": 356,
   "metadata": {},
   "outputs": [
    {
     "name": "stdout",
     "output_type": "stream",
     "text": [
      "(54383.0, 54425.040000000001)\n",
      "(17.949000000000002, 18.719000000000001)\n"
     ]
    }
   ],
   "source": [
    "print (sn_t_min, sn_t_max)\n",
    "print (sn_mag_min, sn_mag_max)"
   ]
  },
  {
   "cell_type": "code",
   "execution_count": 357,
   "metadata": {},
   "outputs": [
    {
     "name": "stdout",
     "output_type": "stream",
     "text": [
      "(0.0, 26.0)\n",
      "(-11, 400)\n"
     ]
    }
   ],
   "source": [
    "print (sn_template_mag.min(), sn_template_mag.max())\n",
    "print (sn_template_time.min(), sn_template_time.max())"
   ]
  },
  {
   "cell_type": "code",
   "execution_count": 358,
   "metadata": {},
   "outputs": [
    {
     "name": "stdout",
     "output_type": "stream",
     "text": [
      "0.77\n",
      "42.04\n"
     ]
    }
   ],
   "source": [
    "print (sn_mag_max - sn_mag_min) # range of v magnitudes\n",
    "print (sn_t_max - sn_t_min) # range of time values"
   ]
  },
  {
   "cell_type": "code",
   "execution_count": 359,
   "metadata": {},
   "outputs": [
    {
     "data": {
      "text/html": [
       "<div>\n",
       "<style>\n",
       "    .dataframe thead tr:only-child th {\n",
       "        text-align: right;\n",
       "    }\n",
       "\n",
       "    .dataframe thead th {\n",
       "        text-align: left;\n",
       "    }\n",
       "\n",
       "    .dataframe tbody tr th {\n",
       "        vertical-align: top;\n",
       "    }\n",
       "</style>\n",
       "<table border=\"1\" class=\"dataframe\">\n",
       "  <thead>\n",
       "    <tr style=\"text-align: right;\">\n",
       "      <th></th>\n",
       "      <th>0</th>\n",
       "      <th>1</th>\n",
       "    </tr>\n",
       "  </thead>\n",
       "  <tbody>\n",
       "    <tr>\n",
       "      <th>3</th>\n",
       "      <td>0</td>\n",
       "      <td>0.00</td>\n",
       "    </tr>\n",
       "    <tr>\n",
       "      <th>4</th>\n",
       "      <td>5</td>\n",
       "      <td>0.21</td>\n",
       "    </tr>\n",
       "    <tr>\n",
       "      <th>5</th>\n",
       "      <td>10</td>\n",
       "      <td>0.28</td>\n",
       "    </tr>\n",
       "    <tr>\n",
       "      <th>6</th>\n",
       "      <td>25</td>\n",
       "      <td>0.71</td>\n",
       "    </tr>\n",
       "    <tr>\n",
       "      <th>7</th>\n",
       "      <td>50</td>\n",
       "      <td>0.98</td>\n",
       "    </tr>\n",
       "    <tr>\n",
       "      <th>8</th>\n",
       "      <td>75</td>\n",
       "      <td>1.19</td>\n",
       "    </tr>\n",
       "    <tr>\n",
       "      <th>9</th>\n",
       "      <td>100</td>\n",
       "      <td>2.30</td>\n",
       "    </tr>\n",
       "    <tr>\n",
       "      <th>10</th>\n",
       "      <td>125</td>\n",
       "      <td>3.42</td>\n",
       "    </tr>\n",
       "    <tr>\n",
       "      <th>11</th>\n",
       "      <td>400</td>\n",
       "      <td>5.92</td>\n",
       "    </tr>\n",
       "  </tbody>\n",
       "</table>\n",
       "</div>"
      ],
      "text/plain": [
       "      0     1\n",
       "3     0  0.00\n",
       "4     5  0.21\n",
       "5    10  0.28\n",
       "6    25  0.71\n",
       "7    50  0.98\n",
       "8    75  1.19\n",
       "9   100  2.30\n",
       "10  125  3.42\n",
       "11  400  5.92"
      ]
     },
     "execution_count": 359,
     "metadata": {},
     "output_type": "execute_result"
    }
   ],
   "source": [
    "template_match_range = sn_template[(sn_template[0] >= 0)]\n",
    "template_match_range"
   ]
  },
  {
   "cell_type": "code",
   "execution_count": 360,
   "metadata": {},
   "outputs": [
    {
     "data": {
      "text/plain": [
       "7.6883116883116882"
      ]
     },
     "execution_count": 360,
     "metadata": {},
     "output_type": "execute_result"
    }
   ],
   "source": [
    "mag_scale_fac = template_match_range[1].max()/0.77\n",
    "mag_scale_fac"
   ]
  },
  {
   "cell_type": "code",
   "execution_count": 361,
   "metadata": {},
   "outputs": [
    {
     "data": {
      "text/plain": [
       "9.5147478591817318"
      ]
     },
     "execution_count": 361,
     "metadata": {},
     "output_type": "execute_result"
    }
   ],
   "source": [
    "time_scale_fac = template_match_range[0].max()/42.04\n",
    "time_scale_fac"
   ]
  },
  {
   "cell_type": "code",
   "execution_count": 365,
   "metadata": {},
   "outputs": [
    {
     "data": {
      "text/plain": [
       "<matplotlib.collections.PathCollection at 0x114ae0ad0>"
      ]
     },
     "execution_count": 365,
     "metadata": {},
     "output_type": "execute_result"
    },
    {
     "data": {
      "image/png": "[encoded data removed]",
      "text/plain": [
       "<matplotlib.figure.Figure at 0x1149fef90>"
      ]
     },
     "metadata": {},
     "output_type": "display_data"
    }
   ],
   "source": [
    "plt.title(\"SN2007ld vs. Type II P SN Template (Figure 3)\")\n",
    "plt.plot((sn_template_time/time_scale_fac) + sn_t_min, (sn_template_mag/mag_scale_fac)+sn_mag_min)\n",
    "plt.scatter(sn_vband_time, sn_vband_mag)"
   ]
  },
  {
   "cell_type": "markdown",
   "metadata": {},
   "source": [
    "## Determining Goodness of Fit"
   ]
  },
  {
   "cell_type": "code",
   "execution_count": 141,
   "metadata": {},
   "outputs": [
    {
     "data": {
      "text/plain": [
       "98     17.949\n",
       "109    17.995\n",
       "130    18.012\n",
       "151    18.062\n",
       "152    18.163\n",
       "189    18.333\n",
       "230    18.546\n",
       "261    18.538\n",
       "292    18.683\n",
       "339    18.719\n",
       "Name: magnitude, dtype: float64"
      ]
     },
     "execution_count": 141,
     "metadata": {},
     "output_type": "execute_result"
    }
   ],
   "source": [
    "sn_vband_mag"
   ]
  },
  {
   "cell_type": "code",
   "execution_count": 142,
   "metadata": {},
   "outputs": [
    {
     "data": {
      "text/plain": [
       "2     18.084270\n",
       "3     17.949000\n",
       "4     17.976314\n",
       "5     17.985419\n",
       "6     18.041348\n",
       "7     18.076466\n",
       "8     18.103780\n",
       "9     18.248155\n",
       "10    18.393831\n",
       "11    18.719000\n",
       "Name: 1, dtype: float64"
      ]
     },
     "execution_count": 142,
     "metadata": {},
     "output_type": "execute_result"
    }
   ],
   "source": [
    "((sn_template_mag/mag_scale_fac)+sn_mag_min)[2:]"
   ]
  },
  {
   "cell_type": "code",
   "execution_count": 367,
   "metadata": {},
   "outputs": [
    {
     "data": {
      "text/plain": [
       "Power_divergenceResult(statistic=0.025939374004370332, pvalue=0.99999999993908584)"
      ]
     },
     "execution_count": 367,
     "metadata": {},
     "output_type": "execute_result"
    }
   ],
   "source": [
    "chisquare(sn_vband_mag, ((sn_template_mag/mag_scale_fac)+sn_mag_min)[2:]) # II P p-value"
   ]
  },
  {
   "cell_type": "markdown",
   "metadata": {},
   "source": [
    "### Comparing Against Type 1a Template"
   ]
  },
  {
   "cell_type": "code",
   "execution_count": 144,
   "metadata": {},
   "outputs": [
    {
     "name": "stderr",
     "output_type": "stream",
     "text": [
      "/Users/amyxiao/anaconda2/lib/python2.7/site-packages/ipykernel_launcher.py:1: ParserWarning: Falling back to the 'python' engine because the 'c' engine does not support regex separators (separators > 1 char and different from '\\s+' are interpreted as regex); you can avoid this warning by specifying engine='python'.\n",
      "  \"\"\"Entry point for launching an IPython kernel.\n"
     ]
    }
   ],
   "source": [
    "sn1a_template = pd.read_csv(\"sn1a_lc.v1.2.dat\", delimiter=\"\\s{1,}\", header=None)"
   ]
  },
  {
   "cell_type": "code",
   "execution_count": 173,
   "metadata": {},
   "outputs": [],
   "source": [
    "sn1a_template_time = sn1a_template.iloc[1:,0]\n",
    "sn1a_template_mag = sn1a_template.iloc[1:,3]"
   ]
  },
  {
   "cell_type": "code",
   "execution_count": 146,
   "metadata": {},
   "outputs": [
    {
     "data": {
      "text/plain": [
       "[<matplotlib.lines.Line2D at 0x1135a67d0>]"
      ]
     },
     "execution_count": 146,
     "metadata": {},
     "output_type": "execute_result"
    },
    {
     "data": {
      "image/png": "[encoded data removed]",
      "text/plain": [
       "<matplotlib.figure.Figure at 0x113391190>"
      ]
     },
     "metadata": {},
     "output_type": "display_data"
    }
   ],
   "source": [
    "sn1a_template_mag\n",
    "plt.title(\"SN Type 1a V Band Template\")\n",
    "plt.plot(sn1a_template_time, sn1a_template_mag)"
   ]
  },
  {
   "cell_type": "code",
   "execution_count": 158,
   "metadata": {},
   "outputs": [],
   "source": [
    "sn1a_template_time_fac = sn1a_template_time.max()/42.04\n",
    "sn1a_template_mag_fac = sn1a_template_mag.max()/0.77"
   ]
  },
  {
   "cell_type": "code",
   "execution_count": 318,
   "metadata": {},
   "outputs": [
    {
     "data": {
      "text/plain": [
       "1    54371.589143\n",
       "2    54372.189714\n",
       "3    54372.790286\n",
       "4    54373.390857\n",
       "5    54373.991429\n",
       "Name: 0, dtype: float64"
      ]
     },
     "execution_count": 318,
     "metadata": {},
     "output_type": "execute_result"
    }
   ],
   "source": [
    "sn1a_template_time_scaled = (sn1a_template_time/sn1a_template_time_fac) + sn_t_min\n",
    "sn1a_template_time_scaled.head()"
   ]
  },
  {
   "cell_type": "code",
   "execution_count": 325,
   "metadata": {},
   "outputs": [
    {
     "data": {
      "text/plain": [
       "1    5.18\n",
       "2    4.30\n",
       "3    3.67\n",
       "4    3.19\n",
       "5    2.71\n",
       "Name: 3, dtype: float64"
      ]
     },
     "execution_count": 325,
     "metadata": {},
     "output_type": "execute_result"
    }
   ],
   "source": [
    "sn1a_template_mag_scaled = (sn1a_template_mag/sn1a_template_mag_fac)+sn_mag_min\n",
    "sn1a_template_mag.head()"
   ]
  },
  {
   "cell_type": "code",
   "execution_count": 326,
   "metadata": {},
   "outputs": [
    {
     "data": {
      "text/plain": [
       "<matplotlib.collections.PathCollection at 0x113f00bd0>"
      ]
     },
     "execution_count": 326,
     "metadata": {},
     "output_type": "execute_result"
    },
    {
     "data": {
      "image/png": "[encoded data removed]",
      "text/plain": [
       "<matplotlib.figure.Figure at 0x113f001d0>"
      ]
     },
     "metadata": {},
     "output_type": "display_data"
    }
   ],
   "source": [
    "plt.plot(sn1a_template_time_scaled, sn1a_template_mag_scaled)\n",
    "plt.scatter(sn_vband_time, sn_vband_mag)"
   ]
  },
  {
   "cell_type": "code",
   "execution_count": 335,
   "metadata": {},
   "outputs": [
    {
     "data": {
      "text/plain": [
       "(98     54383.00\n",
       " 109    54384.99\n",
       " 130    54386.99\n",
       " 151    54388.99\n",
       " 152    54392.01\n",
       " 189    54397.01\n",
       " 230    54407.02\n",
       " 261    54413.00\n",
       " 292    54418.02\n",
       " 339    54425.04\n",
       " Name: time, dtype: float64, 98     17.949\n",
       " 109    17.995\n",
       " 130    18.012\n",
       " 151    18.062\n",
       " 152    18.163\n",
       " 189    18.333\n",
       " 230    18.546\n",
       " 261    18.538\n",
       " 292    18.683\n",
       " 339    18.719\n",
       " Name: magnitude, dtype: float64)"
      ]
     },
     "execution_count": 335,
     "metadata": {},
     "output_type": "execute_result"
    }
   ],
   "source": [
    "sn_vband_time, sn_vband_mag"
   ]
  },
  {
   "cell_type": "code",
   "execution_count": 339,
   "metadata": {},
   "outputs": [
    {
     "data": {
      "text/plain": [
       "90    18.403865\n",
       "Name: 3, dtype: float64"
      ]
     },
     "execution_count": 339,
     "metadata": {},
     "output_type": "execute_result"
    }
   ],
   "source": [
    "def find_template_mag_at_time(time):\n",
    "    r = sn1a_template_time_scaled[(sn1a_template_time_scaled > (time - 1)) & (sn1a_template_time_scaled < (time + 1))]\n",
    "    return sn1a_template_mag_scaled[r[abs(r - time) == abs(r - time).min()].index]\n",
    "\n",
    "find_template_mag_at_time(54425.04)"
   ]
  },
  {
   "cell_type": "code",
   "execution_count": 340,
   "metadata": {},
   "outputs": [
    {
     "data": {
      "text/plain": [
       "array([ 17.95791892,  17.95791892,  17.96832432,  17.98913514,\n",
       "        18.02778378,  18.08575676,  18.26413514,  18.32062162,\n",
       "        18.35332432,  18.40386486])"
      ]
     },
     "execution_count": 340,
     "metadata": {},
     "output_type": "execute_result"
    }
   ],
   "source": [
    "f_vec = np.vectorize(find_template_mag_at_time)\n",
    "f_vec(sn_vband_time)"
   ]
  },
  {
   "cell_type": "code",
   "execution_count": 366,
   "metadata": {},
   "outputs": [
    {
     "data": {
      "text/plain": [
       "Power_divergenceResult(statistic=0.023123654016389231, pvalue=0.99999999996363742)"
      ]
     },
     "execution_count": 366,
     "metadata": {},
     "output_type": "execute_result"
    }
   ],
   "source": [
    "chisquare(sn_vband_mag, f_vec(sn_vband_time)) # Ia p-value"
   ]
  },
  {
   "cell_type": "markdown",
   "metadata": {},
   "source": [
    "### Analysis\n",
    "\n",
    "We find that the p-value when comparing SN2007ld data against the SN Type Ia template and SN Type II P template to be very high in both cases. However, we know from visual inspection that it's most likely the case that SN2007ld should be classified as a Type II P Supernova.\n",
    "\n",
    "Our analysis could be improved if we had template data for magnitudes other than the V band, as upon visual inspection of our data from SN2007ld (Figure 2), all the bands in general conform with the template provided for a SN Type II P (Figure 1).\n",
    "\n",
    "Additionally, our fitting of our templates to our SN data could be improved. In particular, here, we first fit our Type II P SN template to our SN data, before using the same methodology to fit our Type Ia SN template to our SN data. This could have biased our fit towards the Type II P SN template, and improved the p-value."
   ]
  }
 ],
 "metadata": {
  "kernelspec": {
   "display_name": "Python 2",
   "language": "python",
   "name": "python2"
  },
  "language_info": {
   "codemirror_mode": {
    "name": "ipython",
    "version": 2
   },
   "file_extension": ".py",
   "mimetype": "text/x-python",
   "name": "python",
   "nbconvert_exporter": "python",
   "pygments_lexer": "ipython2",
   "version": "2.7.13"
  }
 },
 "nbformat": 4,
 "nbformat_minor": 2
}
